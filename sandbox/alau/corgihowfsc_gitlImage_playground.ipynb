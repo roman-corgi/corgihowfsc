{
 "cells": [
  {
   "cell_type": "code",
   "execution_count": null,
   "id": "8177928b",
   "metadata": {},
   "outputs": [],
   "source": [
    "import time\n",
    "import os\n",
    "import argparse\n",
    "import cProfile\n",
    "import pstats\n",
    "import logging\n",
    "\n",
    "import numpy as np\n",
    "import astropy.io.fits as pyfits\n",
    "\n",
    "from corgihowfsc.utils.howfsc_initialization import get_args_jupyter, load_files\n",
    "from corgihowfsc.sensing.DefaultProbes import DefaultProbes\n",
    "\n",
    "import eetc\n",
    "from eetc.cgi_eetc import CGIEETC\n",
    "\n",
    "import howfsc\n",
    "from howfsc.control.cs import ControlStrategy\n",
    "from howfsc.control.calcjtwj import JTWJMap\n",
    "\n",
    "from howfsc.model.mode import CoronagraphMode\n",
    "\n",
    "from howfsc.util.loadyaml import loadyaml\n",
    "from howfsc.util.gitl_tools import param_order_to_list\n",
    "\n",
    "from howfsc.gitl import howfsc_computation\n",
    "from howfsc.precomp import howfsc_precomputation\n",
    "\n",
    "import cgisim\n",
    "\n",
    "from howfsc.scripts.gitlframes import sim_gitlframe\n",
    "\n",
    "eetc_path = os.path.dirname(os.path.abspath(eetc.__file__))\n",
    "howfscpath = os.path.dirname(os.path.abspath(howfsc.__file__))\n",
    "\n",
    "\n",
    "defjacpath = os.path.join(os.path.dirname(howfscpath), 'jacdata')\n",
    "\n",
    "import matplotlib.pyplot as plt\n",
    "from corgihowfsc.utils.corgisim_gitl_frames import GitlImage\n",
    "\n",
    "#First, import the module:\n",
    "import roman_preflight_proper\n",
    "### Then, run the following command to copy the default prescription file \n",
    "roman_preflight_proper.copy_here()"
   ]
  },
  {
   "cell_type": "markdown",
   "id": "d6a8cdcb",
   "metadata": {},
   "source": [
    "Loading arguments "
   ]
  },
  {
   "cell_type": "code",
   "execution_count": null,
   "id": "d09b1204",
   "metadata": {},
   "outputs": [],
   "source": [
    "# Load arguments\n",
    "args = get_args_jupyter(jacpath=defjacpath)"
   ]
  },
  {
   "cell_type": "code",
   "execution_count": null,
   "id": "dcc9a63b",
   "metadata": {},
   "outputs": [],
   "source": [
    "# Initialise variables etc\n",
    "otherlist = []\n",
    "abs_dm1list = []\n",
    "abs_dm2list = []\n",
    "framelistlist = []\n",
    "scalelistout = []\n",
    "camlist = []\n",
    "\n",
    "# User params\n",
    "niter = args.niter\n",
    "mode = args.mode\n",
    "isprof = args.profile\n",
    "logfile = args.logfile\n",
    "fracbadpix = args.fracbadpix\n",
    "nbadpacket = args.nbadpacket\n",
    "nbadframe = args.nbadframe\n",
    "fileout = args.fileout\n",
    "stellar_vmag = args.stellarvmag\n",
    "stellar_type = args.stellartype\n",
    "stellar_vmag_target = args.stellarvmagtarget\n",
    "stellar_type_target = args.stellartypetarget\n",
    "jacpath = args.jacpath\n",
    "    \n",
    "modelpath, cfgfile, jacfile, cstratfile, probe0file, probe1file, probe2file, hconffile, n2clistfiles = load_files(args, howfscpath)\n",
    "\n",
    "# cfg\n",
    "cfg = CoronagraphMode(cfgfile)\n",
    "cstrat = ControlStrategy(cstratfile)\n"
   ]
  },
  {
   "cell_type": "markdown",
   "id": "7fe96fe4",
   "metadata": {},
   "source": [
    "initialising the probes"
   ]
  },
  {
   "cell_type": "code",
   "execution_count": null,
   "id": "5928118c",
   "metadata": {},
   "outputs": [],
   "source": [
    "# Initialize default probes class\n",
    "probes = DefaultProbes('default')\n",
    "\n",
    "# Get DM lists\n",
    "probefiles = {}\n",
    "probefiles[0] = probe0file\n",
    "probefiles[2] = probe1file\n",
    "probefiles[1] = probe2file\n",
    "\n",
    "dm1_list, dm2_list = probes.get_dm_probes(cfg, probefiles,\n",
    "                      scalelist=[0.3, 0.3, 0.3, -0.3, -0.3, -0.3])\n",
    "\n",
    "# Get probe amplitude lists (this step is slow)\n",
    "plist, other = probes.get_probe_ap(cfg, dm1_list, dm2_list)"
   ]
  },
  {
   "cell_type": "code",
   "execution_count": null,
   "id": "b72859bb",
   "metadata": {},
   "outputs": [],
   "source": [
    "exptime = 30\n",
    "gain = 5000\n",
    "dm1v = dm1_list[1]\n",
    "dm2v = dm2_list[1]\n",
    "cor = 'hlc'\n",
    "crop = (0, 0, 500, 500)"
   ]
  },
  {
   "cell_type": "code",
   "execution_count": null,
   "id": "1b655b85",
   "metadata": {},
   "outputs": [],
   "source": [
    "polaxis=10\n",
    "# without any dm and ccd parameters (uses defaults, whatever they are for now)\n",
    "\n",
    "star_spectrum='a5v'\n",
    "vmag=2.56"
   ]
  },
  {
   "cell_type": "markdown",
   "id": "ae326c2b",
   "metadata": {},
   "source": [
    "# GitlImage using corgisim"
   ]
  },
  {
   "cell_type": "code",
   "execution_count": null,
   "id": "050902bd",
   "metadata": {},
   "outputs": [],
   "source": [
    "name = 'corgihowfsc'\n",
    "bandpass = '1'\n",
    "polaxis = 10\n",
    "\n",
    "imager = GitlImage(name, cor, bandpass, polaxis, is_noise_free=True, output_dim=51)\n",
    "exptime = 30\n",
    "gain = 5000\n",
    "dm1v = dm1_list[1]\n",
    "dm2v = dm2_list[1]\n",
    "crop = (0, 0, 500, 500)\n",
    "peakflux = 1e6\n",
    "\n",
    "lind = 0 # getting to the first sub-band\n",
    "\n",
    "gitlframe = imager.get_image(dm1v, dm2v, exptime, gain, crop, lind,\n",
    "    cleanrow=1024, cleancol=1024)\n"
   ]
  },
  {
   "cell_type": "code",
   "execution_count": null,
   "id": "bad45eec",
   "metadata": {},
   "outputs": [],
   "source": [
    "plt.imshow(gitlframe)\n",
    "plt.colorbar()"
   ]
  },
  {
   "cell_type": "code",
   "execution_count": null,
   "id": "4ee6b51d",
   "metadata": {},
   "outputs": [],
   "source": [
    "# If one must check with cgisim directly\n",
    "\n",
    "# image, counts = cgisim.rcgisim(\n",
    "#     mode, cor, bandpass, polaxis, param_dict,\n",
    "#     star_spectrum=star_spectrum,\n",
    "#     star_vmag=vmag\n",
    "#     )"
   ]
  },
  {
   "cell_type": "markdown",
   "id": "35abd98c",
   "metadata": {},
   "source": [
    "when imager is 'cgi-howfsc' "
   ]
  },
  {
   "cell_type": "code",
   "execution_count": null,
   "id": "09f39a76",
   "metadata": {},
   "outputs": [],
   "source": [
    "fixedbp = np.zeros((1024,1024), dtype=bool)\n",
    "peakflux = 4.72154e+06\n",
    "exptime = 46.9043\n",
    "\n",
    "nrow = 153\n",
    "ncol = 153\n",
    "lrow = 436\n",
    "lcol = 436\n",
    "\n",
    "croplist = (lrow, lcol, nrow, ncol)\n"
   ]
  },
  {
   "cell_type": "code",
   "execution_count": null,
   "id": "46312009",
   "metadata": {},
   "outputs": [],
   "source": [
    "name = 'cgi-howfsc'\n",
    "imager = GitlImage(name, mode, bandpass, cfg=cfg, cstrat=cstrat, is_noise_free=True)"
   ]
  },
  {
   "cell_type": "code",
   "execution_count": null,
   "id": "4c9ebaea",
   "metadata": {},
   "outputs": [],
   "source": [
    "lind = 2\n",
    "gitlframe = imager.get_image(dm1v, dm2v, exptime, gain, croplist, lind, peakflux, cleanrow=1024, cleancol=1024)"
   ]
  },
  {
   "cell_type": "code",
   "execution_count": null,
   "id": "b362d2cd",
   "metadata": {},
   "outputs": [],
   "source": [
    "plt.imshow(gitlframe)"
   ]
  },
  {
   "cell_type": "code",
   "execution_count": null,
   "id": "fa26b898",
   "metadata": {},
   "outputs": [],
   "source": []
  }
 ],
 "metadata": {
  "kernelspec": {
   "display_name": "cgisim",
   "language": "python",
   "name": "python3"
  },
  "language_info": {
   "codemirror_mode": {
    "name": "ipython",
    "version": 3
   },
   "file_extension": ".py",
   "mimetype": "text/x-python",
   "name": "python",
   "nbconvert_exporter": "python",
   "pygments_lexer": "ipython3",
   "version": "3.11.11"
  }
 },
 "nbformat": 4,
 "nbformat_minor": 5
}

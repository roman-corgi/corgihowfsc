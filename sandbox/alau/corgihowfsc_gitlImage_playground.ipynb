{
 "cells": [
  {
   "cell_type": "markdown",
   "id": "60d34e91",
   "metadata": {},
   "source": [
    "## GitlImage Class Usage Examples\n",
    "This notebook demonstrates the different ways to use the GitlImage class:\n",
    "\n",
    "**Quick Navigation:**\n",
    "- [Setup](#Setup-and-Imports)\n",
    "- [Direct Creation](#Example-1:-Direct-Instance-Creation)\n",
    "- [Equivalent Instances](#Example-2:-Creating-Equivalent-Instances)\n",
    "- [Config Mapping](#Example-3:-Configuration-Mapping)\n",
    "- [Dictionary Creation](#Example-4:-Dictionary-Based-Creation)"
   ]
  },
  {
   "cell_type": "markdown",
   "id": "3b2ff592",
   "metadata": {},
   "source": [
    "## Setup-and-Imports"
   ]
  },
  {
   "cell_type": "code",
   "execution_count": null,
   "id": "8177928b",
   "metadata": {},
   "outputs": [],
   "source": [
    "import time\n",
    "import os\n",
    "import argparse\n",
    "import cProfile\n",
    "import pstats\n",
    "import logging\n",
    "\n",
    "import numpy as np\n",
    "import astropy.io.fits as pyfits\n",
    "\n",
    "from corgihowfsc.utils.howfsc_initialization import get_args_jupyter, load_files\n",
    "from corgihowfsc.sensing.DefaultProbes import DefaultProbes\n",
    "\n",
    "import eetc\n",
    "from eetc.cgi_eetc import CGIEETC\n",
    "\n",
    "import howfsc\n",
    "from howfsc.control.cs import ControlStrategy\n",
    "from howfsc.control.calcjtwj import JTWJMap\n",
    "\n",
    "from howfsc.model.mode import CoronagraphMode\n",
    "\n",
    "from howfsc.util.loadyaml import loadyaml\n",
    "from howfsc.util.gitl_tools import param_order_to_list\n",
    "\n",
    "from howfsc.gitl import howfsc_computation\n",
    "from howfsc.precomp import howfsc_precomputation\n",
    "\n",
    "from howfsc.scripts.gitlframes import sim_gitlframe\n",
    "\n",
    "eetc_path = os.path.dirname(os.path.abspath(eetc.__file__))\n",
    "howfscpath = os.path.dirname(os.path.abspath(howfsc.__file__))\n",
    "\n",
    "\n",
    "defjacpath = os.path.join(os.path.dirname(howfscpath), 'jacdata')\n",
    "\n",
    "import matplotlib.pyplot as plt\n",
    "from corgihowfsc.utils.corgisim_gitl_frames import *\n",
    "\n",
    "#First, import the module:\n",
    "import roman_preflight_proper\n",
    "### Then, run the following command to copy the default prescription file \n",
    "# roman_preflight_proper.copy_here()"
   ]
  },
  {
   "cell_type": "code",
   "execution_count": null,
   "id": "95430ecb",
   "metadata": {},
   "outputs": [],
   "source": [
    "from matplotlib.colors import LogNorm\n",
    "\n",
    "def plot_cgi_corgi(cgi_image,\n",
    "                   corgi_image,\n",
    "                   title_cgi='CGI Image',\n",
    "                   title_corgi='CORGI Image',\n",
    "                   figsize=(12, 6),\n",
    "                   log_norm=False,\n",
    "                   cmap_cgi=None,\n",
    "                   cmap_corgi=None,\n",
    "                   colorbar_fraction=0.046,\n",
    "                   colorbar_pad=0.04,\n",
    "                   show=True):\n",
    "    \"\"\"\n",
    "    Plot CGI and CORGI images side-by-side. Does not return values, only displays the plot.\n",
    "    \"\"\"\n",
    "\n",
    "    def _safe_log_norm(arr):\n",
    "        arr = np.asarray(arr)\n",
    "        pos = arr[np.isfinite(arr) & (arr > 0)]\n",
    "        vmin = float(pos.min()) if pos.size > 0 else 1e-12\n",
    "        vmax_val = np.nanmax(arr)\n",
    "        vmax = float(vmax_val) if np.isfinite(vmax_val) else None\n",
    "        return LogNorm(vmin=vmin, vmax=vmax) if vmax is not None else LogNorm(vmin=vmin)\n",
    "\n",
    "    norm0 = _safe_log_norm(cgi_image) if log_norm else None\n",
    "    norm1 = _safe_log_norm(corgi_image) if log_norm else None\n",
    "\n",
    "    fig, axs = plt.subplots(1, 2, figsize=figsize)\n",
    "    im0 = axs[0].imshow(cgi_image, norm=norm0, cmap=cmap_cgi)\n",
    "    axs[0].set_title(title_cgi)\n",
    "    im1 = axs[1].imshow(corgi_image, norm=norm1, cmap=cmap_corgi)\n",
    "    axs[1].set_title(title_corgi)\n",
    "\n",
    "    fig.colorbar(im0, ax=axs[0], orientation='vertical',\n",
    "                 fraction=colorbar_fraction, pad=colorbar_pad)\n",
    "    fig.colorbar(im1, ax=axs[1], orientation='vertical',\n",
    "                 fraction=colorbar_fraction, pad=colorbar_pad)\n",
    "\n",
    "    plt.tight_layout()\n",
    "    if show:\n",
    "        plt.show()\n"
   ]
  },
  {
   "cell_type": "markdown",
   "id": "d6a8cdcb",
   "metadata": {},
   "source": [
    "Loading arguments from files"
   ]
  },
  {
   "cell_type": "code",
   "execution_count": null,
   "id": "d09b1204",
   "metadata": {},
   "outputs": [],
   "source": [
    "# Load arguments\n",
    "args = get_args_jupyter(jacpath=defjacpath)"
   ]
  },
  {
   "cell_type": "code",
   "execution_count": null,
   "id": "dcc9a63b",
   "metadata": {},
   "outputs": [],
   "source": [
    "# Initialise variables etc\n",
    "otherlist = []\n",
    "abs_dm1list = []\n",
    "abs_dm2list = []\n",
    "framelistlist = []\n",
    "scalelistout = []\n",
    "camlist = []\n",
    "\n",
    "# User params\n",
    "niter = args.niter\n",
    "mode = args.mode\n",
    "isprof = args.profile\n",
    "logfile = args.logfile\n",
    "fracbadpix = args.fracbadpix\n",
    "nbadpacket = args.nbadpacket\n",
    "nbadframe = args.nbadframe\n",
    "fileout = args.fileout\n",
    "stellar_vmag = args.stellarvmag\n",
    "stellar_type = args.stellartype\n",
    "stellar_vmag_target = args.stellarvmagtarget\n",
    "stellar_type_target = args.stellartypetarget\n",
    "jacpath = args.jacpath\n",
    "    \n",
    "modelpath, cfgfile, jacfile, cstratfile, probe0file, probe1file, probe2file, hconffile, n2clistfiles = load_files(args, howfscpath)\n",
    "\n",
    "# cfg\n",
    "cfg = CoronagraphMode(cfgfile)\n",
    "\n",
    "# cstrat \n",
    "cstrat = ControlStrategy(cstratfile)\n",
    "\n",
    "# hconffile - needed because of cgihowfsc and corgihowfsc host_star_properties\n",
    "hconf = loadyaml(hconffile, custom_exception=TypeError)\n"
   ]
  },
  {
   "cell_type": "markdown",
   "id": "89fa4306",
   "metadata": {},
   "source": [
    "Getting the probes for probing"
   ]
  },
  {
   "cell_type": "code",
   "execution_count": null,
   "id": "5928118c",
   "metadata": {},
   "outputs": [],
   "source": [
    "# Initialize default probes class\n",
    "probes = DefaultProbes('default')\n",
    "\n",
    "# Get DM lists\n",
    "probefiles = {}\n",
    "probefiles[0] = probe0file\n",
    "probefiles[2] = probe1file\n",
    "probefiles[1] = probe2file\n",
    "\n",
    "dm1_list, dm2_list = probes.get_dm_probes(cfg, probefiles,\n",
    "                      scalelist=[0.3, 0.3, 0.3, -0.3, -0.3, -0.3])\n",
    "\n",
    "# Get probe amplitude lists (this step is slow)\n",
    "plist, other = probes.get_probe_ap(cfg, dm1_list, dm2_list)\n",
    "\n",
    "## params for get_image \n",
    "dm1v = dm1_list[1] # getting probe images \n",
    "dm2v = dm2_list[1] # getting probe images \n",
    "crop = (0, 0, 500, 500) # dummy values for corgisim\n",
    "\n",
    "fixedbp = np.zeros((1024,1024), dtype=bool)\n",
    "peakflux = 4.72154e+06\n",
    "gain = 5000\n",
    "exptime = 46.9043\n",
    "\n",
    "nrow = 153\n",
    "ncol = 153\n",
    "lrow = 436\n",
    "lcol = 436"
   ]
  },
  {
   "cell_type": "markdown",
   "id": "ab2663a0",
   "metadata": {},
   "source": [
    "## Example 1: Direct Instance Creation"
   ]
  },
  {
   "cell_type": "code",
   "execution_count": null,
   "id": "aa9fb272",
   "metadata": {},
   "outputs": [],
   "source": [
    "# Create cgi-howfsc instance\n",
    "cgi_gitl = GitlImage(\n",
    "    name='cgi-howfsc',\n",
    "    cor='narrowfov',\n",
    "    cfg=cfg,         # Your CoronagraphMode object\n",
    "    cstrat=cstrat,   # Your ControlStrategy object  \n",
    "    hconf=hconf      # Your host config with stellar properties\n",
    ")\n",
    "\n",
    "# Create corgihowfsc instance\n",
    "corgi_gitl = GitlImage(\n",
    "    name='corgihowfsc',\n",
    "    cor='hlc',\n",
    "    bandpass='1',\n",
    "    Vmag=2.56,\n",
    "    sptype='A5V'\n",
    ")\n",
    "\n",
    "cgi_image = cgi_gitl.get_image(dm1v, dm2v, exptime, crop=(lrow, lcol, nrow, ncol), peakflux=peakflux)\n",
    "corgi_image = corgi_gitl.get_image(dm1v, dm2v, exptime)\n",
    "\n",
    "plot_cgi_corgi(cgi_image, corgi_image)"
   ]
  },
  {
   "cell_type": "markdown",
   "id": "eb9a1c3d",
   "metadata": {},
   "source": [
    "## Example 2: Creating Equivalent Instances"
   ]
  },
  {
   "cell_type": "code",
   "execution_count": null,
   "id": "f6c983bf",
   "metadata": {},
   "outputs": [],
   "source": [
    "# Create cgi instance\n",
    "cgi_gitl = GitlImage('cgi-howfsc', cor='narrowfov', cfg=cfg, cstrat=cstrat, hconf=hconf)\n",
    "\n",
    "# Create equivalent corgi instance for comparison  \n",
    "corgi_gitl = GitlImage.create_equivalent_corgisim(cgi_gitl)\n",
    "\n",
    "cgi_image = cgi_gitl.get_image(dm1v, dm2v, exptime, crop=(lrow, lcol, nrow, ncol), peakflux=peakflux)\n",
    "corgi_image = corgi_gitl.get_image(dm1v, dm2v, exptime)\n",
    "\n",
    "plot_cgi_corgi(cgi_image, corgi_image)"
   ]
  },
  {
   "cell_type": "markdown",
   "id": "fa9f4302",
   "metadata": {},
   "source": [
    "## Example 3: Configuration Mapping \n"
   ]
  },
  {
   "cell_type": "code",
   "execution_count": null,
   "id": "b72859bb",
   "metadata": {},
   "outputs": [],
   "source": [
    "# Define cgi configuration dictionary\n",
    "cgi_config = {\n",
    "    'name': 'cgi-howfsc',\n",
    "    'cor': 'narrowfov',\n",
    "    'polaxis': 10,\n",
    "    'cfg': cfg,\n",
    "    'cstrat': cstrat,\n",
    "    'hconf': hconf\n",
    "}\n",
    "\n",
    "# Then we map cgi-howfsc config to corgihowfsc \n",
    "# bandpass is inferred from cfg when it is not provided\n",
    "# check the docstring of map_cgi_to_corgi_config for details\n",
    "corgi_config = map_cgi_to_corgi_config(cgi_config)\n",
    "\n",
    "# Use the classmethod to create instance from dictionary\n",
    "corgi_gitl = GitlImage.from_dict(corgi_config)\n"
   ]
  },
  {
   "cell_type": "code",
   "execution_count": null,
   "id": "44dea9f3",
   "metadata": {},
   "outputs": [],
   "source": [
    "cgi_image = cgi_gitl.get_image(dm1v, dm2v, exptime, crop=(lrow, lcol, nrow, ncol), peakflux=peakflux)\n",
    "corgi_image = corgi_gitl.get_image(dm1v, dm2v, exptime)\n",
    "\n",
    "plot_cgi_corgi(cgi_image, corgi_image)"
   ]
  },
  {
   "cell_type": "markdown",
   "id": "b8a85e85",
   "metadata": {},
   "source": [
    "mapping corgihowfsc with user defined values \n",
    "NOTE: Overrides should be used with caution as they may lead to non-equivalent instances\n"
   ]
  },
  {
   "cell_type": "code",
   "execution_count": null,
   "id": "b97c3348",
   "metadata": {},
   "outputs": [],
   "source": [
    "# Define cgi configuration dictionary\n",
    "cgi_config = {\n",
    "    'name': 'cgi-howfsc',\n",
    "    'cor': 'narrowfov',\n",
    "    'polaxis': 10,\n",
    "    'cfg': cfg,\n",
    "    'cstrat': cstrat,\n",
    "    'hconf': hconf\n",
    "}\n",
    "\n",
    "# Then we map cgi-howfsc config to corgihowfsc \n",
    "# bandpass is inferred from cfg when it is not provided\n",
    "# check the docstring of map_cgi_to_corgi_config for details\n",
    "# Map with overrides (user defined values instead of getting from cgihowfsc instance)\n",
    "\n",
    "corgi_config = map_cgi_to_corgi_config(\n",
    "    cgi_config,\n",
    "    bandpass='2',      # Technical override\n",
    "    output_dim=201,    # Technical override\n",
    "    Vmag=2.8          # Stellar override\n",
    ")\n",
    "# Create instance from dictionary\n",
    "corgi_gitl = GitlImage.from_dict(corgi_config)\n",
    "\n",
    "# Get image\n",
    "cgi_image = cgi_gitl.get_image(dm1v, dm2v, exptime, crop=(lrow, lcol, nrow, ncol), peakflux=peakflux)\n",
    "corgi_image = corgi_gitl.get_image(dm1v, dm2v, exptime)\n",
    "\n",
    "plot_cgi_corgi(cgi_image, corgi_image)"
   ]
  },
  {
   "cell_type": "markdown",
   "id": "e79dd7a2",
   "metadata": {},
   "source": [
    "## Example 4: Dictionary Based Creation"
   ]
  },
  {
   "cell_type": "code",
   "execution_count": null,
   "id": "51e7b710",
   "metadata": {},
   "outputs": [],
   "source": [
    "# Generate images with no probes \n",
    "dm1v = np.zeros((48, 48))\n",
    "dm2v = np.zeros((48, 48))\n",
    "\n",
    "# Define cgi configuration dictionary\n",
    "cgi_config = {\n",
    "    'name': 'cgi-howfsc',\n",
    "    'cor': 'narrowfov',\n",
    "    'polaxis': 10,\n",
    "    'cfg': cfg,\n",
    "    'cstrat': cstrat,\n",
    "    'hconf': hconf\n",
    "}\n",
    "\n",
    "# Direct dictionary creation (cgi)\n",
    "cgi_gitl = GitlImage.from_dict(cgi_config)\n",
    "# Or with unpacking (if you prefer, but Direct dictionary creation should be enough)\n",
    "cgi_gitl = GitlImage(**cgi_config)\n",
    "\n",
    "corgi_config = {\n",
    "    'name': 'corgihowfsc',\n",
    "    'cor': 'hlc',\n",
    "    'bandpass': '1',\n",
    "    'Vmag': 2.56,\n",
    "    'sptype': 'A5V'\n",
    "}\n",
    "\n",
    "# Create instance from dictionary\n",
    "corgi_gitl = GitlImage.from_dict(corgi_config)\n",
    "# or create from instance : \n",
    "# corgi_gitl = itlImage.create_equivalent_corgisim(cgi_gitl)\n",
    "\n",
    "cgi_image = cgi_gitl.get_image(dm1v, dm2v, exptime, crop=(lrow, lcol, nrow, ncol), peakflux=peakflux)\n",
    "corgi_image = corgi_gitl.get_image(dm1v, dm2v, exptime)\n",
    "\n",
    "plot_cgi_corgi(cgi_image, corgi_image)"
   ]
  },
  {
   "cell_type": "markdown",
   "id": "52765ffc",
   "metadata": {},
   "source": [
    "Potential use case, maybe for running bandpass in parallel?"
   ]
  },
  {
   "cell_type": "code",
   "execution_count": null,
   "id": "f83ef782",
   "metadata": {},
   "outputs": [],
   "source": [
    "# # Base configuration\n",
    "# base_config = {\n",
    "#     'name': 'cgi-howfsc',\n",
    "#     'cor': 'narrowfov',\n",
    "#     'cfg': cfg,\n",
    "#     'cstrat': cstrat,\n",
    "#     'hconf': hconf\n",
    "# }\n",
    "\n",
    "# # Generate parameter combinations\n",
    "# experiments = []\n",
    "# for bandpass in ['1', '2', '3', '4']:\n",
    "#     for output_dim in [51, 101]:\n",
    "#         corgi_config = map_cgi_to_corgi_config(\n",
    "#             base_config,\n",
    "#             bandpass=bandpass,\n",
    "#             output_dim=output_dim\n",
    "#         )\n",
    "#         experiments.append(corgi_config)\n",
    "\n",
    "# # Create instances and run experiments\n",
    "# for config in experiments:\n",
    "#     gitl = GitlImage.from_dict(config)\n",
    "#     image = gitl.get_image(dm1v, dm2v, exptime=1.0)"
   ]
  },
  {
   "cell_type": "markdown",
   "id": "64ed35b7",
   "metadata": {},
   "source": [
    "## Issue: Mapping cgi-howfsc into corgi-howfsc\n",
    "\n",
    "Here is the situation: \n",
    "For cgi-howfsc, we will be working with the same instance, just looping over the wavelength for the gitlImage, or calculating whatever quantities we are looking into \n",
    "\n",
    "However for corgi-howfsc, we will run into this situation: \n",
    "- Band 1: 1a, 1b, 1c --> 3 instances --> each instance might have 3 - 7 e-field calculations. "
   ]
  },
  {
   "cell_type": "markdown",
   "id": "c1aa9f0a",
   "metadata": {},
   "source": []
  }
 ],
 "metadata": {
  "kernelspec": {
   "display_name": "Python 3 (ipykernel)",
   "language": "python",
   "name": "python3"
  },
  "language_info": {
   "codemirror_mode": {
    "name": "ipython",
    "version": 3
   },
   "file_extension": ".py",
   "mimetype": "text/x-python",
   "name": "python",
   "nbconvert_exporter": "python",
   "pygments_lexer": "ipython3",
   "version": "3.11.5"
  }
 },
 "nbformat": 4,
 "nbformat_minor": 5
}

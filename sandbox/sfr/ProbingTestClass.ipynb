{
 "cells": [
  {
   "cell_type": "code",
   "execution_count": null,
   "id": "8177928b",
   "metadata": {},
   "outputs": [],
   "source": [
    "%load_ext autoreload\n",
    "%autoreload 2\n",
    "\n",
    "import time\n",
    "import os\n",
    "import argparse\n",
    "import cProfile\n",
    "import pstats\n",
    "import logging\n",
    "\n",
    "import numpy as np\n",
    "import astropy.io.fits as pyfits\n",
    "\n",
    "from corgihowfsc.utils.howfsc_initialization import get_args_jupyter, load_files\n",
    "from corgihowfsc.sensing.DefaultProbes import DefaultProbes\n",
    "\n",
    "import eetc\n",
    "from eetc.cgi_eetc import CGIEETC\n",
    "\n",
    "import howfsc\n",
    "from howfsc.control.cs import ControlStrategy\n",
    "from howfsc.control.calcjtwj import JTWJMap\n",
    "\n",
    "from howfsc.model.mode import CoronagraphMode\n",
    "\n",
    "from howfsc.util.loadyaml import loadyaml\n",
    "from howfsc.util.gitl_tools import param_order_to_list\n",
    "\n",
    "from howfsc.gitl import howfsc_computation\n",
    "from howfsc.precomp import howfsc_precomputation\n",
    "\n",
    "from howfsc.scripts.gitlframes import sim_gitlframe\n",
    "\n",
    "eetc_path = os.path.dirname(os.path.abspath(eetc.__file__))\n",
    "howfscpath = os.path.dirname(os.path.abspath(howfsc.__file__))\n",
    "\n",
    "\n",
    "defjacpath = os.path.join(os.path.dirname(howfscpath), 'jacdata')\n",
    "\n"
   ]
  },
  {
   "cell_type": "code",
   "execution_count": null,
   "id": "d09b1204",
   "metadata": {},
   "outputs": [],
   "source": [
    "# Load arguments\n",
    "args = get_args_jupyter(jacpath=defjacpath)\n"
   ]
  },
  {
   "cell_type": "code",
   "execution_count": null,
   "id": "dcc9a63b",
   "metadata": {},
   "outputs": [],
   "source": [
    "# Initialize variables etc\n",
    "\n",
    "otherlist = []\n",
    "abs_dm1list = []\n",
    "abs_dm2list = []\n",
    "framelistlist = []\n",
    "scalelistout = []\n",
    "camlist = []\n",
    "\n",
    "# User params\n",
    "niter = args.niter\n",
    "mode = args.mode\n",
    "isprof = args.profile\n",
    "logfile = args.logfile\n",
    "fracbadpix = args.fracbadpix\n",
    "nbadpacket = args.nbadpacket\n",
    "nbadframe = args.nbadframe\n",
    "fileout = args.fileout\n",
    "stellar_vmag = args.stellarvmag\n",
    "stellar_type = args.stellartype\n",
    "stellar_vmag_target = args.stellarvmagtarget\n",
    "stellar_type_target = args.stellartypetarget\n",
    "jacpath = args.jacpath\n",
    "    \n",
    "modelpath, cfgfile, jacfile, cstratfile, probe0file, probe1file, probe2file, hconffile, n2clistfiles = load_files(args, howfscpath)\n",
    "\n",
    "\n",
    "# cfg\n",
    "cfg = CoronagraphMode(cfgfile)"
   ]
  },
  {
   "cell_type": "code",
   "execution_count": null,
   "id": "5928118c",
   "metadata": {},
   "outputs": [],
   "source": [
    "# Initialize default probes class\n",
    "probes = DefaultProbes('default')\n",
    "\n",
    "# Get DM lists\n",
    "probefiles = {}\n",
    "probefiles[0] = probe0file\n",
    "probefiles[2] = probe1file\n",
    "probefiles[1] = probe2file\n",
    "dm1_list, dm2_list = probes.get_dm_probes(cfg, probefiles,\n",
    "                      scalelist=[0.3, 0.3, 0.3, -0.3, -0.3, -0.3])\n",
    "\n",
    "# Get probe amplitude lists (this step is slow)\n",
    "plist, other = probes.get_probe_ap(cfg, dm1_list, dm2_list)"
   ]
  },
  {
   "cell_type": "code",
   "execution_count": null,
   "id": "938b4d29",
   "metadata": {},
   "outputs": [],
   "source": []
  },
  {
   "cell_type": "code",
   "execution_count": null,
   "id": "b72859bb",
   "metadata": {},
   "outputs": [],
   "source": []
  }
 ],
 "metadata": {
  "kernelspec": {
   "display_name": "Python 3 (ipykernel)",
   "language": "python",
   "name": "python3"
  },
  "language_info": {
   "codemirror_mode": {
    "name": "ipython",
    "version": 3
   },
   "file_extension": ".py",
   "mimetype": "text/x-python",
   "name": "python",
   "nbconvert_exporter": "python",
   "pygments_lexer": "ipython3",
   "version": "3.11.5"
  }
 },
 "nbformat": 4,
 "nbformat_minor": 5
}

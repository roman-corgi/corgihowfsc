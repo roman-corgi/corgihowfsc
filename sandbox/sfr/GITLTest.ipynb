{
 "cells": [
  {
   "cell_type": "code",
   "execution_count": null,
   "id": "c1832800",
   "metadata": {},
   "outputs": [],
   "source": [
    "%load_ext autoreload\n",
    "%autoreload 2\n",
    "\n",
    "import time\n",
    "import os\n",
    "import argparse\n",
    "import cProfile\n",
    "import pstats\n",
    "import logging\n",
    "\n",
    "import numpy as np\n",
    "import astropy.io.fits as pyfits"
   ]
  },
  {
   "cell_type": "code",
   "execution_count": null,
   "id": "c61bdef3",
   "metadata": {},
   "outputs": [],
   "source": [
    "\n",
    "import howfsc\n",
    "import eetc\n",
    "from howfsc.control.cs import ControlStrategy\n",
    "from howfsc.model.mode import CoronagraphMode\n",
    "\n",
    "from corgihowfsc.utils.howfsc_initialization import get_args, load_files\n",
    "from corgihowfsc.sensing.DefaultEstimator import DefaultEstimator\n",
    "from corgihowfsc.sensing.DefaultProbes import DefaultProbes\n",
    "from corgihowfsc.utils.contrast_nomalization import EETCNormalization"
   ]
  },
  {
   "cell_type": "code",
   "execution_count": null,
   "id": "435b1d83",
   "metadata": {},
   "outputs": [],
   "source": [
    "eetc_path = os.path.dirname(os.path.abspath(eetc.__file__))\n",
    "howfscpath = os.path.dirname(os.path.abspath(howfsc.__file__))\n",
    "\n",
    "\n",
    "defjacpath = os.path.join(os.path.dirname(howfscpath), 'jacdata')\n",
    "\n"
   ]
  },
  {
   "cell_type": "code",
   "execution_count": null,
   "id": "2244fe41",
   "metadata": {},
   "outputs": [],
   "source": [
    "args = get_args(jacpath=defjacpath)\n",
    "\n",
    "# Initialize variables etc\n",
    "\n",
    "otherlist = []\n",
    "abs_dm1list = []\n",
    "abs_dm2list = []\n",
    "framelistlist = []\n",
    "scalelistout = []\n",
    "camlist = []\n",
    "\n",
    "# User params\n",
    "niter = args.niter\n",
    "mode = args.mode\n",
    "isprof = args.profile\n",
    "logfile = args.logfile\n",
    "fracbadpix = args.fracbadpix\n",
    "nbadpacket = args.nbadpacket\n",
    "nbadframe = args.nbadframe\n",
    "fileout = args.fileout\n",
    "stellar_vmag = args.stellarvmag\n",
    "stellar_type = args.stellartype\n",
    "stellar_vmag_target = args.stellarvmagtarget\n",
    "stellar_type_target = args.stellartypetarget\n",
    "jacpath = args.jacpath\n",
    "\n",
    "modelpath, cfgfile, jacfile, cstratfile, probefiles, hconffile, n2clistfiles = load_files(args, howfscpath)\n",
    "\n",
    "# Initialize default probes class\n",
    "probing = DefaultProbes('default')\n",
    "\n",
    "# # Get DM lists\n",
    "# probefiles = {}\n",
    "# probefiles[0] = probe0file\n",
    "# probefiles[2] = probe1file\n",
    "# probefiles[1] = probe2file\n",
    "# dm1_list, dm2_list = probing.get_dm_probes(cfg, probefiles,\n",
    "#                       scalelist=[0.3, 0.3, 0.3, -0.3, -0.3, -0.3])\n",
    "#\n",
    "# # Get probe amplitude lists (this step is slow)\n",
    "# plist, other = probing.get_probe_ap(cfg, dm1_list, dm2_list)\n",
    "\n"
   ]
  },
  {
   "cell_type": "code",
   "execution_count": null,
   "id": "21beda46",
   "metadata": {},
   "outputs": [],
   "source": [
    "# cfg\n",
    "cfg = CoronagraphMode(cfgfile)\n",
    "\n",
    "cstrat = ControlStrategy(cstratfile)\n",
    "estrat = DefaultEstimator()\n",
    "\n",
    "normstrat = EETCNormalization()\n",
    "\n",
    "# imager = corgisimImager()\n",
    "# imager = compactImager()\n",
    "\n",
    "# nulling_gitl(cstrat, estrat, probing, normstrat, cfg, imager, modelpath, jacfile, probefiles, hconffile, n2clistfiles)\n",
    "\n"
   ]
  },
  {
   "cell_type": "code",
   "execution_count": null,
   "id": "7dc57df9",
   "metadata": {},
   "outputs": [],
   "source": []
  }
 ],
 "metadata": {
  "kernelspec": {
   "display_name": "Python 3 (ipykernel)",
   "language": "python",
   "name": "python3"
  },
  "language_info": {
   "codemirror_mode": {
    "name": "ipython",
    "version": 3
   },
   "file_extension": ".py",
   "mimetype": "text/x-python",
   "name": "python",
   "nbconvert_exporter": "python",
   "pygments_lexer": "ipython3",
   "version": "3.11.5"
  }
 },
 "nbformat": 4,
 "nbformat_minor": 5
}
